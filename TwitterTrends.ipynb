{
 "cells": [
  {
   "cell_type": "markdown",
   "metadata": {},
   "source": [
    "## Display Top 10 twitter trends \n",
    "\n",
    "##### Install the package 'twitteR' using the **install.packages()** function"
   ]
  },
  {
   "cell_type": "code",
   "execution_count": 1,
   "metadata": {
    "collapsed": false
   },
   "outputs": [
    {
     "name": "stderr",
     "output_type": "stream",
     "text": [
      "Installing package into 'C:/Users/Haril Satra/Documents/R/win-library/3.3'\n",
      "(as 'lib' is unspecified)\n"
     ]
    },
    {
     "name": "stdout",
     "output_type": "stream",
     "text": [
      "package 'twitteR' successfully unpacked and MD5 sums checked\n",
      "\n",
      "The downloaded binary packages are in\n",
      "\tC:\\Users\\Haril Satra\\AppData\\Local\\Temp\\RtmpC0SehO\\downloaded_packages\n"
     ]
    }
   ],
   "source": [
    "install.packages(\"twitteR\", repos=\"http://cran.r-project.org\")"
   ]
  },
  {
   "cell_type": "markdown",
   "metadata": {},
   "source": [
    "##### Load the above installed package using the function **library()**."
   ]
  },
  {
   "cell_type": "code",
   "execution_count": 2,
   "metadata": {
    "collapsed": false
   },
   "outputs": [],
   "source": [
    "library(twitteR)"
   ]
  },
  {
   "cell_type": "markdown",
   "metadata": {},
   "source": [
    "##### Store all the keys required to search using the twitter API\n",
    "For More info on where to get them: **https://apps.twitter.com/**"
   ]
  },
  {
   "cell_type": "code",
   "execution_count": 3,
   "metadata": {
    "collapsed": true
   },
   "outputs": [],
   "source": [
    "consumer_key <- \"SUomsISnPRRKwpabPW3kUZKZq\"\n",
    "consumer_secret <- \"SV84f6ugaYqHQsgxcHaOt2hiKsIsIdFBGt81cfiuHth8m91DNF\"\n",
    "access_token <- \"400906935-Hv4DJfDlpgyq4PYXJYdiycHc4eVCGCW9cmbczFwP\"\n",
    "access_secret <- \"rYufy3ycJXgXCnqHEebtXF44HdKX4L5AlGbf27jht64rq\""
   ]
  },
  {
   "cell_type": "markdown",
   "metadata": {},
   "source": [
    "### Authentication\n",
    "##### Authenticate using the keys obtained after creating the app and generating the keys from the above step.\n",
    "\n",
    "For more info: **https://dev.twitter.com/oauth/overview**"
   ]
  },
  {
   "cell_type": "code",
   "execution_count": 4,
   "metadata": {
    "collapsed": false
   },
   "outputs": [
    {
     "name": "stdout",
     "output_type": "stream",
     "text": [
      "[1] \"Using direct authentication\"\n"
     ]
    }
   ],
   "source": [
    "setup_twitter_oauth(consumer_key,consumer_secret,access_token,access_secret)"
   ]
  },
  {
   "cell_type": "markdown",
   "metadata": {},
   "source": [
    "##### Install the package 'ggmap' using the **install.packages()** function"
   ]
  },
  {
   "cell_type": "code",
   "execution_count": 5,
   "metadata": {
    "collapsed": false
   },
   "outputs": [
    {
     "name": "stderr",
     "output_type": "stream",
     "text": [
      "Installing package into 'C:/Users/Haril Satra/Documents/R/win-library/3.3'\n",
      "(as 'lib' is unspecified)\n"
     ]
    },
    {
     "name": "stdout",
     "output_type": "stream",
     "text": [
      "package 'ggmap' successfully unpacked and MD5 sums checked\n",
      "\n",
      "The downloaded binary packages are in\n",
      "\tC:\\Users\\Haril Satra\\AppData\\Local\\Temp\\RtmpC0SehO\\downloaded_packages\n"
     ]
    }
   ],
   "source": [
    "install.packages(\"ggmap\", repos=\"http://cran.r-project.org\")"
   ]
  },
  {
   "cell_type": "markdown",
   "metadata": {},
   "source": [
    "##### Load 'ggplot2' and the above installed package using the function **library()**."
   ]
  },
  {
   "cell_type": "code",
   "execution_count": 6,
   "metadata": {
    "collapsed": true
   },
   "outputs": [],
   "source": [
    "library(ggplot2)\n",
    "library(ggmap)"
   ]
  },
  {
   "cell_type": "markdown",
   "metadata": {},
   "source": [
    "##### Stored the location about which we want the twitter trends in a variable"
   ]
  },
  {
   "cell_type": "code",
   "execution_count": 7,
   "metadata": {
    "collapsed": false
   },
   "outputs": [],
   "source": [
    "User_Input <- \"New York\""
   ]
  },
  {
   "cell_type": "markdown",
   "metadata": {},
   "source": [
    "### Getting the woeid of the location\n",
    "\n",
    "##### **Step 1 : **Get the geocode of the location"
   ]
  },
  {
   "cell_type": "code",
   "execution_count": 8,
   "metadata": {
    "collapsed": false
   },
   "outputs": [
    {
     "name": "stderr",
     "output_type": "stream",
     "text": [
      "Information from URL : http://maps.googleapis.com/maps/api/geocode/json?address=New%20York&sensor=false\n"
     ]
    }
   ],
   "source": [
    "location <- geocode(as.character(User_Input))"
   ]
  },
  {
   "cell_type": "markdown",
   "metadata": {},
   "source": [
    "##### **Step 2 : **Pass the obtained geocode to the function *closestTrendLocation()* as an argument. This function will return the nearest location to the geocode where twitter trends are available along with its **woeid**."
   ]
  },
  {
   "cell_type": "code",
   "execution_count": 11,
   "metadata": {
    "collapsed": true
   },
   "outputs": [],
   "source": [
    "closeTrends = closestTrendLocations(location$lat, location$lon)"
   ]
  },
  {
   "cell_type": "code",
   "execution_count": 12,
   "metadata": {
    "collapsed": false
   },
   "outputs": [
    {
     "data": {
      "text/html": [
       "<table>\n",
       "<thead><tr><th scope=col>name</th><th scope=col>country</th><th scope=col>woeid</th></tr></thead>\n",
       "<tbody>\n",
       "\t<tr><td>New York     </td><td>United States</td><td>2459115      </td></tr>\n",
       "</tbody>\n",
       "</table>\n"
      ],
      "text/latex": [
       "\\begin{tabular}{r|lll}\n",
       " name & country & woeid\\\\\n",
       "\\hline\n",
       "\t New York      & United States & 2459115      \\\\\n",
       "\\end{tabular}\n"
      ],
      "text/markdown": [
       "\n",
       "name | country | woeid | \n",
       "|---|\n",
       "| New York      | United States | 2459115       | \n",
       "\n",
       "\n"
      ],
      "text/plain": [
       "  name     country       woeid  \n",
       "1 New York United States 2459115"
      ]
     },
     "metadata": {},
     "output_type": "display_data"
    }
   ],
   "source": [
    "head(closeTrends)"
   ]
  },
  {
   "cell_type": "markdown",
   "metadata": {},
   "source": [
    "### Get the trends\n",
    "\n",
    "##### Passing the obtained woeid to the function *getTrends()* as an argument will return all the trends of the woeid corresponding location."
   ]
  },
  {
   "cell_type": "code",
   "execution_count": 13,
   "metadata": {
    "collapsed": true
   },
   "outputs": [],
   "source": [
    "Trends <- getTrends(closeTrends$woeid)"
   ]
  },
  {
   "cell_type": "code",
   "execution_count": 32,
   "metadata": {
    "collapsed": false
   },
   "outputs": [
    {
     "name": "stdout",
     "output_type": "stream",
     "text": [
      "The top 10 twitter trends of ' New York ' are as follows:\n",
      "\n",
      "#ADayWithoutImmigrants \n",
      " #TrumpPressConference \n",
      " #hurtbae \n",
      " Kylie Lip Kits \n",
      " #ItAintMe \n",
      " #NewYork \n",
      " Darrelle Revis \n",
      " Tunnel Vision \n",
      " James Charles \n",
      " Mark Zuckerberg \n"
     ]
    }
   ],
   "source": [
    "cat(\"The top 10 twitter trends of '\",User_Input,\"' are as follows:\\n\\n\")\n",
    "cat(paste(Trends$name[1:10],\"\\n\"))"
   ]
  },
  {
   "cell_type": "code",
   "execution_count": null,
   "metadata": {
    "collapsed": true
   },
   "outputs": [],
   "source": []
  }
 ],
 "metadata": {
  "anaconda-cloud": {},
  "kernelspec": {
   "display_name": "R",
   "language": "R",
   "name": "ir"
  },
  "language_info": {
   "codemirror_mode": "r",
   "file_extension": ".r",
   "mimetype": "text/x-r-source",
   "name": "R",
   "pygments_lexer": "r",
   "version": "3.3.2"
  }
 },
 "nbformat": 4,
 "nbformat_minor": 1
}
